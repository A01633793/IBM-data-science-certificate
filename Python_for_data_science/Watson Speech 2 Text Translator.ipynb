{
 "cells": [
  {
   "cell_type": "markdown",
   "id": "cdb45483",
   "metadata": {},
   "source": [
    "# Watson Speech 2 Text Translator"
   ]
  },
  {
   "cell_type": "code",
   "execution_count": 13,
   "id": "80a6beb5",
   "metadata": {},
   "outputs": [
    {
     "name": "stdout",
     "output_type": "stream",
     "text": [
      "Requirement already satisfied: ibm_watson in c:\\users\\rober\\anaconda3\\lib\\site-packages (5.3.1)\n",
      "Requirement already satisfied: wget in c:\\users\\rober\\anaconda3\\lib\\site-packages (3.2)\n",
      "Requirement already satisfied: requests<3.0,>=2.0 in c:\\users\\rober\\anaconda3\\lib\\site-packages (from ibm_watson) (2.26.0)\n",
      "Requirement already satisfied: ibm-cloud-sdk-core==3.*,>=3.3.6 in c:\\users\\rober\\anaconda3\\lib\\site-packages (from ibm_watson) (3.14.0)\n",
      "Requirement already satisfied: websocket-client==1.1.0 in c:\\users\\rober\\anaconda3\\lib\\site-packages (from ibm_watson) (1.1.0)\n",
      "Requirement already satisfied: python-dateutil>=2.5.3 in c:\\users\\rober\\anaconda3\\lib\\site-packages (from ibm_watson) (2.8.2)\n",
      "Requirement already satisfied: PyJWT<3.0.0,>=2.0.1 in c:\\users\\rober\\anaconda3\\lib\\site-packages (from ibm-cloud-sdk-core==3.*,>=3.3.6->ibm_watson) (2.1.0)\n",
      "Requirement already satisfied: urllib3<2.0.0,>=1.26.0 in c:\\users\\rober\\anaconda3\\lib\\site-packages (from ibm-cloud-sdk-core==3.*,>=3.3.6->ibm_watson) (1.26.7)\n",
      "Requirement already satisfied: six>=1.5 in c:\\users\\rober\\anaconda3\\lib\\site-packages (from python-dateutil>=2.5.3->ibm_watson) (1.16.0)\n",
      "Requirement already satisfied: charset-normalizer~=2.0.0 in c:\\users\\rober\\anaconda3\\lib\\site-packages (from requests<3.0,>=2.0->ibm_watson) (2.0.4)\n",
      "Requirement already satisfied: idna<4,>=2.5 in c:\\users\\rober\\anaconda3\\lib\\site-packages (from requests<3.0,>=2.0->ibm_watson) (3.2)\n",
      "Requirement already satisfied: certifi>=2017.4.17 in c:\\users\\rober\\anaconda3\\lib\\site-packages (from requests<3.0,>=2.0->ibm_watson) (2021.10.8)\n"
     ]
    }
   ],
   "source": [
    "!pip install ibm_watson wget"
   ]
  },
  {
   "cell_type": "code",
   "execution_count": 14,
   "id": "794c05e8",
   "metadata": {},
   "outputs": [],
   "source": [
    "from ibm_watson import SpeechToTextV1 \n",
    "import json\n",
    "from ibm_cloud_sdk_core.authenticators import IAMAuthenticator"
   ]
  },
  {
   "cell_type": "code",
   "execution_count": 15,
   "id": "99b54766",
   "metadata": {},
   "outputs": [],
   "source": [
    "url_s2t = \"https://api.us-south.language-translator.watson.cloud.ibm.com/instances/e3d02eff-ec37-4028-a61a-6aad61eecb2b\""
   ]
  },
  {
   "cell_type": "code",
   "execution_count": 16,
   "id": "84bac2e0",
   "metadata": {},
   "outputs": [],
   "source": [
    "iam_apikey_s2t = \"eISZlZw09KYlCLYHKrAQ9sxcCqK5UPIvoA4qIeG0Tcte\""
   ]
  },
  {
   "cell_type": "code",
   "execution_count": 17,
   "id": "8ab24162",
   "metadata": {},
   "outputs": [
    {
     "data": {
      "text/plain": [
       "<ibm_watson.speech_to_text_v1_adapter.SpeechToTextV1Adapter at 0x1debf5b4b50>"
      ]
     },
     "execution_count": 17,
     "metadata": {},
     "output_type": "execute_result"
    }
   ],
   "source": [
    "authenticator = IAMAuthenticator(iam_apikey_s2t)\n",
    "s2t = SpeechToTextV1(authenticator=authenticator)\n",
    "s2t.set_service_url(url_s2t)\n",
    "s2t"
   ]
  },
  {
   "cell_type": "code",
   "execution_count": null,
   "id": "62a6a367",
   "metadata": {},
   "outputs": [],
   "source": [
    "!wget -O PolynomialRegressionandPipelines.mp3  https://cf-courses-data.s3.us.cloud-object-storage.appdomain.cloud/IBMDeveloperSkillsNetwork-PY0101EN-SkillsNetwork/labs/Module%205/data/PolynomialRegressionandPipelines.mp3\n"
   ]
  },
  {
   "cell_type": "code",
   "execution_count": null,
   "id": "eb9a5d48",
   "metadata": {},
   "outputs": [],
   "source": []
  }
 ],
 "metadata": {
  "kernelspec": {
   "display_name": "Python 3 (ipykernel)",
   "language": "python",
   "name": "python3"
  },
  "language_info": {
   "codemirror_mode": {
    "name": "ipython",
    "version": 3
   },
   "file_extension": ".py",
   "mimetype": "text/x-python",
   "name": "python",
   "nbconvert_exporter": "python",
   "pygments_lexer": "ipython3",
   "version": "3.9.7"
  }
 },
 "nbformat": 4,
 "nbformat_minor": 5
}
